{
  "nbformat": 4,
  "nbformat_minor": 0,
  "metadata": {
    "colab": {
      "provenance": []
    },
    "kernelspec": {
      "name": "python3",
      "display_name": "Python 3"
    },
    "language_info": {
      "name": "python"
    }
  },
  "cells": [
    {
      "cell_type": "code",
      "source": [
        "# Function to count requests per IP address\n",
        "def count_requests_per_ip(log_file):\n",
        "    # Dictionary-like structure for counting requests by IP address\n",
        "    request_counts = {}\n",
        "\n",
        "    # Open the log file and process each line\n",
        "    with open(log_file, 'r') as file:\n",
        "        for line in file:\n",
        "            # Skip empty lines or lines that don't contain enough parts\n",
        "            parts = line.split()\n",
        "            if len(parts) < 1:  # Ensure the line has at least one part\n",
        "                continue\n",
        "\n",
        "            # Extract the IP address (assuming it's the first part)\n",
        "            ip_address = parts[0]\n",
        "\n",
        "            # Increment the request count for this IP\n",
        "            if ip_address in request_counts:\n",
        "                request_counts[ip_address] += 1\n",
        "            else:\n",
        "                request_counts[ip_address] = 1\n",
        "\n",
        "    # Sort the results by request count in descending order\n",
        "    sorted_requests = sorted(request_counts.items(), key=lambda x: x[1], reverse=True)\n",
        "\n",
        "    # Display the results\n",
        "    print(\"IP Address           Request Count\")\n",
        "    for ip_address, count in sorted_requests:\n",
        "        print(f\"{ip_address:<20} {count}\")\n",
        "\n",
        "# Define the path to the log file\n",
        "log_file_path = \"/content/sample.log\"\n",
        "\n",
        "# Call the function with the specified log file\n",
        "count_requests_per_ip(log_file_path)\n"
      ],
      "metadata": {
        "colab": {
          "base_uri": "https://localhost:8080/"
        },
        "id": "LNiliS-CRP81",
        "outputId": "4fb2b00d-df53-4ff7-800e-4e13d22bf920"
      },
      "execution_count": 26,
      "outputs": [
        {
          "output_type": "stream",
          "name": "stdout",
          "text": [
            "IP Address           Request Count\n",
            "203.0.113.5          8\n",
            "198.51.100.23        8\n",
            "192.168.1.1          7\n",
            "10.0.0.2             6\n",
            "192.168.1.100        5\n",
            ".LOG                 1\n"
          ]
        }
      ]
    },
    {
      "cell_type": "code",
      "source": [
        "# Function to identify the most frequently accessed endpoint\n",
        "def most_frequent_endpoint(log_file):\n",
        "    # Dictionary-like structure to count accesses per endpoint\n",
        "    endpoint_counts = {}\n",
        "\n",
        "    # Open the log file and process each line\n",
        "    with open(log_file, 'r') as file:\n",
        "        for line in file:\n",
        "            # Example log: \"192.168.1.1 - - [timestamp] \\\"GET /home HTTP/1.1\\\" 200\"\n",
        "            parts = line.split()\n",
        "            if len(parts) < 7:  # Ensure the line has enough parts\n",
        "                continue\n",
        "\n",
        "            # Extract the endpoint (assuming it's the 7th element in quotes)\n",
        "            request_part = parts[5]  # e.g., \"\\\"GET\"\n",
        "            endpoint = parts[6]      # e.g., \"/home\"\n",
        "\n",
        "            # Increment the count for this endpoint\n",
        "            if endpoint in endpoint_counts:\n",
        "                endpoint_counts[endpoint] += 1\n",
        "            else:\n",
        "                endpoint_counts[endpoint] = 1\n",
        "\n",
        "    # Find the endpoint with the highest count\n",
        "    most_frequent = max(endpoint_counts.items(), key=lambda x: x[1])\n",
        "\n",
        "    # Display the result\n",
        "    print(\"Most Frequently Accessed Endpoint:\")\n",
        "    print(f\"{most_frequent[0]} (Accessed {most_frequent[1]} times)\")\n",
        "\n",
        "# Define the path to the log file\n",
        "log_file_path = \"/content/sample.log\"\n",
        "\n",
        "# Call the function with the specified log file\n",
        "most_frequent_endpoint(log_file_path)\n"
      ],
      "metadata": {
        "colab": {
          "base_uri": "https://localhost:8080/"
        },
        "id": "jusLEPpbRcBM",
        "outputId": "6f903ce1-8ce0-484e-aadf-d9910b7ea872"
      },
      "execution_count": 27,
      "outputs": [
        {
          "output_type": "stream",
          "name": "stdout",
          "text": [
            "Most Frequently Accessed Endpoint:\n",
            "/login (Accessed 13 times)\n"
          ]
        }
      ]
    },
    {
      "cell_type": "code",
      "source": [
        "# Function to detect suspicious activity\n",
        "def detect_suspicious_activity(log_file, threshold=10):\n",
        "    failed_attempts = {}\n",
        "    with open(log_file, 'r') as file:\n",
        "        for line in file:\n",
        "            if \"401\" in line or \"Invalid credentials\" in line:\n",
        "                parts = line.split()\n",
        "                if len(parts) < 1:\n",
        "                    continue\n",
        "                ip_address = parts[0]\n",
        "                if ip_address in failed_attempts:\n",
        "                    failed_attempts[ip_address] += 1\n",
        "                else:\n",
        "                    failed_attempts[ip_address] = 1\n",
        "    print(\"\\nSuspicious Activity Detected:\")\n",
        "    print(\"IP Address           Failed Login Attempts\")\n",
        "    for ip_address, count in failed_attempts.items():\n",
        "        if count > threshold:\n",
        "            print(f\"{ip_address:<20} {count}\")\n",
        "    return failed_attempts\n",
        "\n",
        "log_file_path = \"/content/sample.log\"\n",
        "detect_suspicious_activity(log_file_path, threshold=1)"
      ],
      "metadata": {
        "colab": {
          "base_uri": "https://localhost:8080/"
        },
        "id": "P72WaAkcWSsr",
        "outputId": "45c4fc69-f49d-4e0c-ad30-8434aa20f2f3"
      },
      "execution_count": 48,
      "outputs": [
        {
          "output_type": "stream",
          "name": "stdout",
          "text": [
            "\n",
            "Suspicious Activity Detected:\n",
            "IP Address           Failed Login Attempts\n",
            "203.0.113.5          8\n",
            "192.168.1.100        5\n"
          ]
        },
        {
          "output_type": "execute_result",
          "data": {
            "text/plain": [
              "{'203.0.113.5': 8, '192.168.1.100': 5}"
            ]
          },
          "metadata": {},
          "execution_count": 48
        }
      ]
    },
    {
      "cell_type": "code",
      "source": [
        "# Main script\n",
        "log_file_path = \"/content/sample.log\"\n",
        "output_file_path = \"log_analysis_results.csv\"\n",
        "\n",
        "# Calculate results\n",
        "requests_per_ip = count_requests_per_ip(log_file_path)\n",
        "most_accessed = most_frequent_endpoint(log_file_path)\n",
        "suspicious_activity = detect_suspicious_activity(log_file_path)  # This now returns a dictionary\n",
        "\n",
        "# Display results\n",
        "print(\"Requests per IP:\")\n",
        "for ip, count in requests_per_ip.items():\n",
        "    print(f\"{ip:<20} {count}\")\n",
        "\n",
        "print(\"\\nMost Accessed Endpoint:\")\n",
        "print(f\"{most_accessed[0]} (Accessed {most_accessed[1]} times)\")\n",
        "\n",
        "# Handle suspicious activity results\n",
        "if suspicious_activity:  # Now this will work correctly\n",
        "    print(\"\\nSuspicious Activity Detected:\")\n",
        "    print(\"IP Address Failed Login Count\")\n",
        "    for ip, count in suspicious_activity.items():\n",
        "        print(f\"{ip:<20} {count}\")\n",
        "else:\n",
        "    print(\"\\nNo Suspicious Activity Detected.\")\n",
        "\n",
        "# Save results to CSV\n",
        "save_to_csv(requests_per_ip, most_accessed, suspicious_activity, output_file_path)\n",
        "print(f\"\\nResults saved to {output_file_path}\")"
      ],
      "metadata": {
        "colab": {
          "base_uri": "https://localhost:8080/"
        },
        "id": "oAk9ucvpaDqe",
        "outputId": "b596bb92-bd7c-4c73-cf71-babec9152807"
      },
      "execution_count": 49,
      "outputs": [
        {
          "output_type": "stream",
          "name": "stdout",
          "text": [
            "\n",
            "Suspicious Activity Detected:\n",
            "IP Address           Failed Login Attempts\n",
            "Requests per IP:\n",
            ".LOG                 1\n",
            "192.168.1.1          7\n",
            "203.0.113.5          8\n",
            "10.0.0.2             6\n",
            "198.51.100.23        8\n",
            "192.168.1.100        5\n",
            "\n",
            "Most Accessed Endpoint:\n",
            "/login (Accessed 13 times)\n",
            "\n",
            "Suspicious Activity Detected:\n",
            "IP Address Failed Login Count\n",
            "203.0.113.5          8\n",
            "192.168.1.100        5\n",
            "\n",
            "Results saved to log_analysis_results.csv\n"
          ]
        }
      ]
    },
    {
      "cell_type": "code",
      "source": [],
      "metadata": {
        "id": "R7CzVQYlaogd"
      },
      "execution_count": null,
      "outputs": []
    }
  ]
}